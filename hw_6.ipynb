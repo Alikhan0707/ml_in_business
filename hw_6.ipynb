{
 "cells": [
  {
   "cell_type": "markdown",
   "metadata": {},
   "source": [
    "Домашнее задание\n",
    "\n",
    "1. взять любой набор данных для бинарной классификации (можно скачать один из модельных с https://archive.ics.uci.edu/ml/datasets.php)\n",
    "2. сделать feature engineering\n",
    "3. обучить любой классификатор (какой вам нравится) и посчитать метрики качества (roc auc, pr/rec/f1, logloss)\n",
    "4. далее разделить ваш набор данных на два множества: P (positives) и U (unlabeled). Причем брать нужно не все положительные (класс 1) примеры, а только лишь часть\n",
    "5. применить random negative sampling для построения классификатора в новых условиях\n",
    "6. сравнить качество с решением из пункта 4 (построить отчет - таблицу метрик)\n",
    "7. поэкспериментировать с долей P на шаге 5 (как будет меняться качество модели при уменьшении/увеличении размера P)"
   ]
  },
  {
   "cell_type": "code",
   "execution_count": 1,
   "metadata": {},
   "outputs": [],
   "source": [
    "%matplotlib inline\n",
    "import numpy as np\n",
    "import pandas as pd\n",
    "import matplotlib.pyplot as plt\n",
    "\n",
    "from sklearn.model_selection import train_test_split\n",
    "from sklearn.metrics import f1_score, roc_auc_score, accuracy_score, precision_score, recall_score\n",
    "\n",
    "from xgboost import XGBClassifier"
   ]
  },
  {
   "cell_type": "code",
   "execution_count": 2,
   "metadata": {},
   "outputs": [],
   "source": [
    "np.random.seed(42)"
   ]
  },
  {
   "cell_type": "code",
   "execution_count": 3,
   "metadata": {},
   "outputs": [],
   "source": [
    "df = pd.read_csv('/Users/macbook/Downloads/pop_failures.dat', delim_whitespace=' ')"
   ]
  },
  {
   "cell_type": "code",
   "execution_count": 4,
   "metadata": {},
   "outputs": [
    {
     "data": {
      "text/plain": [
       "1    494\n",
       "0     46\n",
       "Name: outcome, dtype: int64"
      ]
     },
     "execution_count": 4,
     "metadata": {},
     "output_type": "execute_result"
    }
   ],
   "source": [
    "df.outcome.value_counts()"
   ]
  },
  {
   "cell_type": "code",
   "execution_count": 5,
   "metadata": {},
   "outputs": [],
   "source": [
    "X = df.drop('outcome', axis=1)\n",
    "y = df['outcome']\n",
    "\n",
    "X_train, X_test, y_train, y_test = train_test_split(X, y, test_size=.3)"
   ]
  },
  {
   "cell_type": "code",
   "execution_count": 6,
   "metadata": {},
   "outputs": [
    {
     "name": "stdout",
     "output_type": "stream",
     "text": [
      "[15:37:33] WARNING: /Users/travis/build/dmlc/xgboost/src/learner.cc:1061: Starting in XGBoost 1.3.0, the default evaluation metric used with the objective 'binary:logistic' was changed from 'error' to 'logloss'. Explicitly set eval_metric if you'd like to restore the old behavior.\n"
     ]
    },
    {
     "name": "stderr",
     "output_type": "stream",
     "text": [
      "/Users/macbook/opt/anaconda3/lib/python3.8/site-packages/xgboost/sklearn.py:888: UserWarning: The use of label encoder in XGBClassifier is deprecated and will be removed in a future release. To remove this warning, do the following: 1) Pass option use_label_encoder=False when constructing XGBClassifier object; and 2) Encode your labels (y) as integers starting with 0, i.e. 0, 1, 2, ..., [num_class - 1].\n",
      "  warnings.warn(label_encoder_deprecation_msg, UserWarning)\n"
     ]
    }
   ],
   "source": [
    "model = XGBClassifier()\n",
    "\n",
    "model.fit(X_train, y_train)\n",
    "y_predict = model.predict(X_test)"
   ]
  },
  {
   "cell_type": "code",
   "execution_count": 7,
   "metadata": {},
   "outputs": [],
   "source": [
    "def evaluate_results(y_test, y_predict):\n",
    "    \n",
    "    f1 = f1_score(y_test, y_predict)\n",
    "    roc = roc_auc_score(y_test, y_predict)\n",
    "    recall = recall_score(y_test, y_predict, average='binary')\n",
    "    precision = precision_score(y_test, y_predict, average='binary')\n",
    "    \n",
    "    return f1, roc, precision, recall\n",
    "    \n",
    "f1score, roc_auc, precision, recall = evaluate_results(y_test, y_predict)\n",
    "\n",
    "metrics_data = []\n",
    "metrics_data.append((1, f1score, roc_auc, precision, recall))"
   ]
  },
  {
   "cell_type": "code",
   "execution_count": 8,
   "metadata": {},
   "outputs": [
    {
     "name": "stdout",
     "output_type": "stream",
     "text": [
      "Using 50/494 as positives and unlabeling the rest\n",
      "Using 124/494 as positives and unlabeling the rest\n",
      "Using 149/494 as positives and unlabeling the rest\n",
      "Using 198/494 as positives and unlabeling the rest\n",
      "Using 247/494 as positives and unlabeling the rest\n"
     ]
    }
   ],
   "source": [
    "modified_df = df.copy()\n",
    "#get the indices of the positives samples\n",
    "position_indexes = np.where(modified_df.iloc[:,-1].values == 1)[0]\n",
    "#shuffle them\n",
    "np.random.shuffle(position_indexes)\n",
    "\n",
    "# leave just 25% of the positives marked\n",
    "position_sample_len_10 = int(np.ceil(0.10 * len(position_indexes)))\n",
    "position_sample_len_25 = int(np.ceil(0.25 * len(position_indexes)))\n",
    "position_sample_len_30 = int(np.ceil(0.30 * len(position_indexes)))\n",
    "position_sample_len_40 = int(np.ceil(0.40 * len(position_indexes)))\n",
    "position_sample_len_50 = int(np.ceil(0.50 * len(position_indexes)))\n",
    "\n",
    "print(f'Using {position_sample_len_10}/{len(position_indexes)} as positives and unlabeling the rest')\n",
    "print(f'Using {position_sample_len_25}/{len(position_indexes)} as positives and unlabeling the rest')\n",
    "print(f'Using {position_sample_len_30}/{len(position_indexes)} as positives and unlabeling the rest')\n",
    "print(f'Using {position_sample_len_40}/{len(position_indexes)} as positives and unlabeling the rest')\n",
    "print(f'Using {position_sample_len_50}/{len(position_indexes)} as positives and unlabeling the rest')\n",
    "\n",
    "position_sample_10 = position_indexes[:position_sample_len_10]\n",
    "position_sample_25 = position_indexes[:position_sample_len_25]\n",
    "position_sample_30 = position_indexes[:position_sample_len_30]\n",
    "position_sample_40 = position_indexes[:position_sample_len_40]\n",
    "position_sample_50 = position_indexes[:position_sample_len_50]"
   ]
  },
  {
   "cell_type": "code",
   "execution_count": 9,
   "metadata": {},
   "outputs": [],
   "source": [
    "def split_data_and_fit(data, position_sample, proportion_class_1):\n",
    "    \n",
    "    modified_data = data.copy()\n",
    "    \n",
    "    modified_data['test_outcome'] = -1\n",
    "    modified_data.loc[position_sample,'test_outcome'] = 1\n",
    "\n",
    "    X_data = modified_data.iloc[:,:-2].values # just the X \n",
    "    y_labeled = modified_data.iloc[:,-1].values # new class (just the P & U)\n",
    "    y_positive = modified_data.iloc[:,-2].values # original class\n",
    "\n",
    "    mod_data = modified_data.sample(frac=1)\n",
    "    neg_sample = modified_data[modified_data['test_outcome']==-1][:len(modified_data[modified_data['test_outcome']==1])]\n",
    "    sample_test = modified_data[modified_data['test_outcome']==-1][len(modified_data[modified_data['test_outcome']==1]):]\n",
    "    pos_sample = modified_data[modified_data['test_outcome']==1]\n",
    "\n",
    "    sample_train = pd.concat([neg_sample, pos_sample]).sample(frac=1)\n",
    "\n",
    "    model = XGBClassifier()\n",
    "\n",
    "    model.fit(sample_train.iloc[:,:-2].values, \n",
    "              sample_train.iloc[:,-2].values)\n",
    "    y_predict = model.predict(sample_test.iloc[:,:-2].values)\n",
    "\n",
    "    f1score, roc_auc, precision, recall = evaluate_results(sample_test.iloc[:,-2].values, y_predict)\n",
    "\n",
    "    metrics_data.append((proportion_class_1, f1score, roc_auc, precision, recall))"
   ]
  },
  {
   "cell_type": "code",
   "execution_count": 10,
   "metadata": {},
   "outputs": [
    {
     "name": "stderr",
     "output_type": "stream",
     "text": [
      "/Users/macbook/opt/anaconda3/lib/python3.8/site-packages/xgboost/sklearn.py:888: UserWarning: The use of label encoder in XGBClassifier is deprecated and will be removed in a future release. To remove this warning, do the following: 1) Pass option use_label_encoder=False when constructing XGBClassifier object; and 2) Encode your labels (y) as integers starting with 0, i.e. 0, 1, 2, ..., [num_class - 1].\n",
      "  warnings.warn(label_encoder_deprecation_msg, UserWarning)\n",
      "/Users/macbook/opt/anaconda3/lib/python3.8/site-packages/xgboost/sklearn.py:888: UserWarning: The use of label encoder in XGBClassifier is deprecated and will be removed in a future release. To remove this warning, do the following: 1) Pass option use_label_encoder=False when constructing XGBClassifier object; and 2) Encode your labels (y) as integers starting with 0, i.e. 0, 1, 2, ..., [num_class - 1].\n",
      "  warnings.warn(label_encoder_deprecation_msg, UserWarning)\n",
      "/Users/macbook/opt/anaconda3/lib/python3.8/site-packages/xgboost/sklearn.py:888: UserWarning: The use of label encoder in XGBClassifier is deprecated and will be removed in a future release. To remove this warning, do the following: 1) Pass option use_label_encoder=False when constructing XGBClassifier object; and 2) Encode your labels (y) as integers starting with 0, i.e. 0, 1, 2, ..., [num_class - 1].\n",
      "  warnings.warn(label_encoder_deprecation_msg, UserWarning)\n"
     ]
    },
    {
     "name": "stdout",
     "output_type": "stream",
     "text": [
      "[15:37:33] WARNING: /Users/travis/build/dmlc/xgboost/src/learner.cc:1061: Starting in XGBoost 1.3.0, the default evaluation metric used with the objective 'binary:logistic' was changed from 'error' to 'logloss'. Explicitly set eval_metric if you'd like to restore the old behavior.\n",
      "[15:37:33] WARNING: /Users/travis/build/dmlc/xgboost/src/learner.cc:1061: Starting in XGBoost 1.3.0, the default evaluation metric used with the objective 'binary:logistic' was changed from 'error' to 'logloss'. Explicitly set eval_metric if you'd like to restore the old behavior.\n",
      "[15:37:33] WARNING: /Users/travis/build/dmlc/xgboost/src/learner.cc:1061: Starting in XGBoost 1.3.0, the default evaluation metric used with the objective 'binary:logistic' was changed from 'error' to 'logloss'. Explicitly set eval_metric if you'd like to restore the old behavior.\n"
     ]
    },
    {
     "name": "stderr",
     "output_type": "stream",
     "text": [
      "/Users/macbook/opt/anaconda3/lib/python3.8/site-packages/xgboost/sklearn.py:888: UserWarning: The use of label encoder in XGBClassifier is deprecated and will be removed in a future release. To remove this warning, do the following: 1) Pass option use_label_encoder=False when constructing XGBClassifier object; and 2) Encode your labels (y) as integers starting with 0, i.e. 0, 1, 2, ..., [num_class - 1].\n",
      "  warnings.warn(label_encoder_deprecation_msg, UserWarning)\n",
      "/Users/macbook/opt/anaconda3/lib/python3.8/site-packages/xgboost/sklearn.py:888: UserWarning: The use of label encoder in XGBClassifier is deprecated and will be removed in a future release. To remove this warning, do the following: 1) Pass option use_label_encoder=False when constructing XGBClassifier object; and 2) Encode your labels (y) as integers starting with 0, i.e. 0, 1, 2, ..., [num_class - 1].\n",
      "  warnings.warn(label_encoder_deprecation_msg, UserWarning)\n"
     ]
    },
    {
     "name": "stdout",
     "output_type": "stream",
     "text": [
      "[15:37:33] WARNING: /Users/travis/build/dmlc/xgboost/src/learner.cc:1061: Starting in XGBoost 1.3.0, the default evaluation metric used with the objective 'binary:logistic' was changed from 'error' to 'logloss'. Explicitly set eval_metric if you'd like to restore the old behavior.\n",
      "[15:37:33] WARNING: /Users/travis/build/dmlc/xgboost/src/learner.cc:1061: Starting in XGBoost 1.3.0, the default evaluation metric used with the objective 'binary:logistic' was changed from 'error' to 'logloss'. Explicitly set eval_metric if you'd like to restore the old behavior.\n"
     ]
    }
   ],
   "source": [
    "split_data_and_fit(modified_df, position_sample_10, 0.10)\n",
    "split_data_and_fit(modified_df, position_sample_25, 0.25)\n",
    "split_data_and_fit(modified_df, position_sample_30, 0.30)\n",
    "split_data_and_fit(modified_df, position_sample_40, 0.40)\n",
    "split_data_and_fit(modified_df, position_sample_50, 0.50)"
   ]
  },
  {
   "cell_type": "code",
   "execution_count": 11,
   "metadata": {},
   "outputs": [],
   "source": [
    "metrics_data = pd.DataFrame(metrics_data, columns=['proportion_class_1', 'f1_score', 'roc_auc_score', 'precision', 'recall'])"
   ]
  },
  {
   "cell_type": "code",
   "execution_count": 15,
   "metadata": {},
   "outputs": [
    {
     "data": {
      "text/html": [
       "<div>\n",
       "<style scoped>\n",
       "    .dataframe tbody tr th:only-of-type {\n",
       "        vertical-align: middle;\n",
       "    }\n",
       "\n",
       "    .dataframe tbody tr th {\n",
       "        vertical-align: top;\n",
       "    }\n",
       "\n",
       "    .dataframe thead th {\n",
       "        text-align: right;\n",
       "    }\n",
       "</style>\n",
       "<table border=\"1\" class=\"dataframe\">\n",
       "  <thead>\n",
       "    <tr style=\"text-align: right;\">\n",
       "      <th></th>\n",
       "      <th>proportion_class_1</th>\n",
       "      <th>f1_score</th>\n",
       "      <th>roc_auc_score</th>\n",
       "      <th>precision</th>\n",
       "      <th>recall</th>\n",
       "    </tr>\n",
       "  </thead>\n",
       "  <tbody>\n",
       "    <tr>\n",
       "      <th>1</th>\n",
       "      <td>0.10</td>\n",
       "      <td>0.948626</td>\n",
       "      <td>0.498744</td>\n",
       "      <td>0.904328</td>\n",
       "      <td>0.997487</td>\n",
       "    </tr>\n",
       "    <tr>\n",
       "      <th>2</th>\n",
       "      <td>0.25</td>\n",
       "      <td>0.965138</td>\n",
       "      <td>0.676677</td>\n",
       "      <td>0.935943</td>\n",
       "      <td>0.996212</td>\n",
       "    </tr>\n",
       "    <tr>\n",
       "      <th>3</th>\n",
       "      <td>0.30</td>\n",
       "      <td>0.960352</td>\n",
       "      <td>0.625000</td>\n",
       "      <td>0.923729</td>\n",
       "      <td>1.000000</td>\n",
       "    </tr>\n",
       "    <tr>\n",
       "      <th>4</th>\n",
       "      <td>0.40</td>\n",
       "      <td>0.958491</td>\n",
       "      <td>0.683594</td>\n",
       "      <td>0.927007</td>\n",
       "      <td>0.992188</td>\n",
       "    </tr>\n",
       "    <tr>\n",
       "      <th>5</th>\n",
       "      <td>0.50</td>\n",
       "      <td>0.962963</td>\n",
       "      <td>0.785714</td>\n",
       "      <td>0.928571</td>\n",
       "      <td>1.000000</td>\n",
       "    </tr>\n",
       "    <tr>\n",
       "      <th>0</th>\n",
       "      <td>1.00</td>\n",
       "      <td>0.976744</td>\n",
       "      <td>0.782336</td>\n",
       "      <td>0.960784</td>\n",
       "      <td>0.993243</td>\n",
       "    </tr>\n",
       "  </tbody>\n",
       "</table>\n",
       "</div>"
      ],
      "text/plain": [
       "   proportion_class_1  f1_score  roc_auc_score  precision    recall\n",
       "1                0.10  0.948626       0.498744   0.904328  0.997487\n",
       "2                0.25  0.965138       0.676677   0.935943  0.996212\n",
       "3                0.30  0.960352       0.625000   0.923729  1.000000\n",
       "4                0.40  0.958491       0.683594   0.927007  0.992188\n",
       "5                0.50  0.962963       0.785714   0.928571  1.000000\n",
       "0                1.00  0.976744       0.782336   0.960784  0.993243"
      ]
     },
     "execution_count": 15,
     "metadata": {},
     "output_type": "execute_result"
    }
   ],
   "source": [
    "metrics_data = metrics_data.sort_values('proportion_class_1', ascending=True)\n",
    "metrics_data"
   ]
  },
  {
   "cell_type": "code",
   "execution_count": 20,
   "metadata": {},
   "outputs": [
    {
     "data": {
      "text/plain": [
       "['proportion_class_1', 'f1_score', 'roc_auc_score', 'precision', 'recall']"
      ]
     },
     "execution_count": 20,
     "metadata": {},
     "output_type": "execute_result"
    }
   ],
   "source": [
    "metrics_data.columns.tolist()"
   ]
  },
  {
   "cell_type": "code",
   "execution_count": 25,
   "metadata": {},
   "outputs": [
    {
     "data": {
      "image/png": "[encoded data removed]",
      "text/plain": [
       "<Figure size 432x288 with 1 Axes>"
      ]
     },
     "metadata": {
      "needs_background": "light"
     },
     "output_type": "display_data"
    }
   ],
   "source": [
    "plt.plot(metrics_data['proportion_class_1'], metrics_data['f1_score'], label='f1_score')\n",
    "# plt.plot(metrics_data['proportion_class_1'], metrics_data['roc_auc_score'], label='roc_auc_score')\n",
    "plt.plot(metrics_data['proportion_class_1'], metrics_data['precision'], label='precision')\n",
    "plt.plot(metrics_data['proportion_class_1'], metrics_data['recall'], label='recall')\n",
    "plt.xlabel('proportion_class_1')\n",
    "plt.ylabel('metrics')\n",
    "plt.legend()\n",
    "plt.show()"
   ]
  }
 ],
 "metadata": {
  "kernelspec": {
   "display_name": "Python 3",
   "language": "python",
   "name": "python3"
  },
  "language_info": {
   "codemirror_mode": {
    "name": "ipython",
    "version": 3
   },
   "file_extension": ".py",
   "mimetype": "text/x-python",
   "name": "python",
   "nbconvert_exporter": "python",
   "pygments_lexer": "ipython3",
   "version": "3.8.5"
  }
 },
 "nbformat": 4,
 "nbformat_minor": 4
}
